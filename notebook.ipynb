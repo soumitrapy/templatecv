{
 "cells": [
  {
   "cell_type": "code",
   "execution_count": null,
   "id": "3c96c29f",
   "metadata": {},
   "outputs": [],
   "source": [
    "# !wget https://storage.googleapis.com/wandb_datasets/nature_12K.zip\n",
    "# !unzip nature_12K.zip"
   ]
  },
  {
   "cell_type": "code",
   "execution_count": 1,
   "id": "9d3e977e",
   "metadata": {},
   "outputs": [],
   "source": [
    "import yaml\n",
    "import os\n",
    "import numpy as np\n",
    "from PIL import Image\n",
    "import matplotlib.pyplot as plt\n",
    "\n",
    "import torch\n",
    "from torch.utils.data import Dataset,DataLoader, random_split\n",
    "\n",
    "from torchvision import transforms\n",
    "#from torchvision.io import read_image"
   ]
  },
  {
   "cell_type": "code",
   "execution_count": 2,
   "id": "1b8b8420",
   "metadata": {},
   "outputs": [
    {
     "name": "stdout",
     "output_type": "stream",
     "text": [
      "cpu\n"
     ]
    }
   ],
   "source": [
    "config = yaml.safe_load(open(\"config/default.yaml\"))\n",
    "device = torch.device('cuda' if torch.cuda.is_available() else 'cpu')\n",
    "print(device)"
   ]
  },
  {
   "cell_type": "code",
   "execution_count": 3,
   "id": "515cf774",
   "metadata": {},
   "outputs": [],
   "source": [
    "class CustomDataset(Dataset):\n",
    "    def __init__(self, path, class_names = None, transform=None, target_transform=None):\n",
    "        super().__init__()\n",
    "        self.path = path\n",
    "        self.class_names = class_names\n",
    "        self.transform = transform\n",
    "        self.target_transform = target_transform\n",
    "\n",
    "        if self.class_names is None:\n",
    "            self.class_names =[x for x in os.listdir(path) if os.path.isdir(os.path.join(path, x))]\n",
    "        \n",
    "        self.images = []\n",
    "        self.labels = []\n",
    "\n",
    "        for i, cls in enumerate(self.class_names):\n",
    "            img_dir = os.path.join(self.path, cls)\n",
    "            for f in os.listdir(img_dir):\n",
    "                self.images.append(os.path.join(img_dir, f))\n",
    "                self.labels.append(i)\n",
    "\n",
    "\n",
    "    def __len__(self):\n",
    "        return len(self.images)\n",
    "\n",
    "    def __getitem__(self, index):\n",
    "        image = Image.open(self.images[index])\n",
    "        label = self.labels[index]\n",
    "        if self.transform:\n",
    "            image = self.transform(image)\n",
    "        if self.target_transform:\n",
    "            label = self.target_transform(label)\n",
    "        return image, label\n"
   ]
  },
  {
   "cell_type": "markdown",
   "id": "6cb0e086",
   "metadata": {},
   "source": [
    "### DataLoader Creation"
   ]
  },
  {
   "cell_type": "code",
   "execution_count": 4,
   "id": "0dd01199",
   "metadata": {},
   "outputs": [
    {
     "name": "stdout",
     "output_type": "stream",
     "text": [
      "8000 2000 2000\n",
      "torch.Size([500, 3, 256, 256]) torch.Size([500])\n"
     ]
    }
   ],
   "source": [
    "transform = transforms.Compose([\n",
    "        transforms.Resize(tuple(config['dataset']['img_size'])),\n",
    "        transforms.ToTensor()\n",
    "    ])\n",
    "target_transform = None\n",
    "train_path = config['dataset']['path']+\"train\"\n",
    "test_path = config['dataset']['path']+\"val\"\n",
    "\n",
    "trainds = CustomDataset(path=train_path,\n",
    "                        class_names=config['dataset']['class_names'],\n",
    "                        transform=transform,\n",
    "                        target_transform=target_transform\n",
    "                        )\n",
    "\n",
    "val_split = int(0.2 * len(trainds))\n",
    "trainds, valds = random_split(trainds, [len(trainds) - val_split, val_split])\n",
    "testds = CustomDataset(path=test_path,\n",
    "                        class_names=config['dataset']['class_names'],\n",
    "                        transform=transform,\n",
    "                        target_transform=target_transform\n",
    "                        )\n",
    "traindl = DataLoader(trainds, batch_size=config['dataset']['batch_size'])\n",
    "valdl = DataLoader(valds, batch_size=config['dataset']['batch_size'])\n",
    "testdl = DataLoader(testds, batch_size=config['dataset']['batch_size'])\n",
    "print(len(trainds), len(valds), len(testds))\n",
    "for x, y in traindl:\n",
    "    print(x.shape, y.shape)\n",
    "    break"
   ]
  },
  {
   "cell_type": "code",
   "execution_count": 5,
   "id": "f4124940",
   "metadata": {},
   "outputs": [
    {
     "name": "stdout",
     "output_type": "stream",
     "text": [
      "SmallCNN(\n",
      "  (conv_blocks): ModuleList(\n",
      "    (0): Sequential(\n",
      "      (0): Conv2d(3, 32, kernel_size=(3, 3), stride=(1, 1), padding=(1, 1))\n",
      "      (1): ReLU()\n",
      "      (2): MaxPool2d(kernel_size=2, stride=2, padding=0, dilation=1, ceil_mode=False)\n",
      "    )\n",
      "  )\n",
      "  (flatten): Flatten(start_dim=1, end_dim=-1)\n",
      "  (fc1): Linear(in_features=32, out_features=512, bias=True)\n",
      "  (fc2): Linear(in_features=512, out_features=10, bias=True)\n",
      ")\n"
     ]
    }
   ],
   "source": [
    "from models.simplemodel import SmallCNN\n",
    "model = SmallCNN(config['model'])\n",
    "print(model)"
   ]
  },
  {
   "cell_type": "code",
   "execution_count": null,
   "id": "813fe4c1",
   "metadata": {},
   "outputs": [],
   "source": [
    "out = model(x)\n",
    "out.shape"
   ]
  },
  {
   "cell_type": "code",
   "execution_count": null,
   "id": "58d0e141",
   "metadata": {},
   "outputs": [],
   "source": []
  },
  {
   "cell_type": "code",
   "execution_count": null,
   "id": "b662ff85",
   "metadata": {},
   "outputs": [],
   "source": []
  },
  {
   "cell_type": "code",
   "execution_count": null,
   "id": "ee670546",
   "metadata": {},
   "outputs": [],
   "source": []
  }
 ],
 "metadata": {
  "kernelspec": {
   "display_name": "base",
   "language": "python",
   "name": "python3"
  },
  "language_info": {
   "codemirror_mode": {
    "name": "ipython",
    "version": 3
   },
   "file_extension": ".py",
   "mimetype": "text/x-python",
   "name": "python",
   "nbconvert_exporter": "python",
   "pygments_lexer": "ipython3",
   "version": "3.12.9"
  }
 },
 "nbformat": 4,
 "nbformat_minor": 5
}
