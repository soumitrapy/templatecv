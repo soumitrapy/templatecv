{
 "cells": [
  {
   "cell_type": "code",
   "execution_count": 10,
   "id": "ebc1a698",
   "metadata": {},
   "outputs": [],
   "source": [
    "# !git clone https://github.com/soumitrapy/templatecv.git project\n",
    "# %cd project"
   ]
  },
  {
   "cell_type": "code",
   "execution_count": 11,
   "id": "3c96c29f",
   "metadata": {},
   "outputs": [],
   "source": [
    "# !wget https://storage.googleapis.com/wandb_datasets/nature_12K.zip\n",
    "# !unzip nature_12K.zip"
   ]
  },
  {
   "cell_type": "code",
   "execution_count": 1,
   "id": "9d3e977e",
   "metadata": {},
   "outputs": [],
   "source": [
    "import yaml\n",
    "import os\n",
    "from datetime import datetime\n",
    "import numpy as np\n",
    "from PIL import Image\n",
    "import matplotlib.pyplot as plt\n",
    "\n",
    "import torch\n",
    "from torch.utils.data import Dataset,DataLoader, random_split\n",
    "\n",
    "from torchvision import transforms\n",
    "#from torchvision.io import read_image"
   ]
  },
  {
   "cell_type": "code",
   "execution_count": 2,
   "id": "1b8b8420",
   "metadata": {},
   "outputs": [
    {
     "name": "stdout",
     "output_type": "stream",
     "text": [
      "cpu\n"
     ]
    }
   ],
   "source": [
    "#config = yaml.safe_load(open(\"config/default.yaml\"))\n",
    "config = yaml.safe_load(open(\"config/pretrained.yaml\"))\n",
    "device = torch.device('cuda' if torch.cuda.is_available() else 'cpu')\n",
    "print(device)"
   ]
  },
  {
   "cell_type": "code",
   "execution_count": 3,
   "id": "515cf774",
   "metadata": {},
   "outputs": [],
   "source": [
    "class CustomDataset(Dataset):\n",
    "    def __init__(self, path, class_names = None, transform=None, target_transform=None):\n",
    "        super().__init__()\n",
    "        self.path = path\n",
    "        self.class_names = class_names\n",
    "        self.transform = transform\n",
    "        self.target_transform = target_transform\n",
    "\n",
    "        if self.class_names is None:\n",
    "            self.class_names =[x for x in os.listdir(path) if os.path.isdir(os.path.join(path, x))]\n",
    "        \n",
    "        self.images = []\n",
    "        self.labels = []\n",
    "\n",
    "        for i, cls in enumerate(self.class_names):\n",
    "            img_dir = os.path.join(self.path, cls)\n",
    "            for f in os.listdir(img_dir):\n",
    "                if f.endswith(('.jpg','.png')):\n",
    "                    self.images.append(os.path.join(img_dir, f))\n",
    "                    self.labels.append(i)\n",
    "\n",
    "\n",
    "    def __len__(self):\n",
    "        return len(self.images)\n",
    "\n",
    "    def __getitem__(self, index):\n",
    "        image = Image.open(self.images[index]).convert(\"RGB\")\n",
    "        label = self.labels[index]\n",
    "        if self.transform:\n",
    "            image = self.transform(image)\n",
    "        if self.target_transform:\n",
    "            label = self.target_transform(label)\n",
    "        return image, label\n"
   ]
  },
  {
   "cell_type": "markdown",
   "id": "6cb0e086",
   "metadata": {},
   "source": [
    "### DataLoader Creation"
   ]
  },
  {
   "cell_type": "code",
   "execution_count": 4,
   "id": "0dd01199",
   "metadata": {},
   "outputs": [
    {
     "name": "stdout",
     "output_type": "stream",
     "text": [
      "8000 1999 2000\n"
     ]
    }
   ],
   "source": [
    "# transform = transforms.Compose([\n",
    "#         transforms.Resize(tuple(config['dataset']['img_size'])),\n",
    "#         transforms.ToTensor()\n",
    "#     ])\n",
    "data_transforms = {\n",
    "    'train': transforms.Compose([\n",
    "        transforms.RandomResizedCrop(224),\n",
    "        transforms.RandomHorizontalFlip(),\n",
    "        transforms.ToTensor(),\n",
    "        transforms.Normalize([0.485, 0.456, 0.406], [0.229, 0.224, 0.225])\n",
    "    ]),\n",
    "    'val': transforms.Compose([\n",
    "        transforms.Resize(256),\n",
    "        transforms.CenterCrop(224),\n",
    "        transforms.ToTensor(),\n",
    "        transforms.Normalize([0.485, 0.456, 0.406], [0.229, 0.224, 0.225])\n",
    "    ]),\n",
    "}\n",
    "target_transform = None\n",
    "train_path = config['dataset']['path']+\"train\"\n",
    "test_path = config['dataset']['path']+\"val\"\n",
    "\n",
    "trainds = CustomDataset(path=train_path,\n",
    "                        class_names=config['dataset']['class_names'],\n",
    "                        transform=data_transforms['train'],\n",
    "                        target_transform=target_transform\n",
    "                        )\n",
    "\n",
    "val_split = int(0.2 * len(trainds))\n",
    "trainds, valds = random_split(trainds, [len(trainds) - val_split, val_split])\n",
    "testds = CustomDataset(path=test_path,\n",
    "                        class_names=config['dataset']['class_names'],\n",
    "                        transform=data_transforms['val'],\n",
    "                        target_transform=target_transform\n",
    "                        )\n",
    "traindl = DataLoader(trainds, batch_size=config['dataset']['batch_size'])\n",
    "valdl = DataLoader(valds, batch_size=config['dataset']['batch_size'])\n",
    "testdl = DataLoader(testds, batch_size=config['dataset']['batch_size'])\n",
    "print(len(trainds), len(valds), len(testds))"
   ]
  },
  {
   "cell_type": "code",
   "execution_count": 5,
   "id": "8c13e6d4",
   "metadata": {},
   "outputs": [],
   "source": [
    "# # Data augmentation and normalization for training\n",
    "# # Just normalization for validation\n",
    "# data_transforms = {\n",
    "#     'train': transforms.Compose([\n",
    "#         transforms.RandomResizedCrop(224),\n",
    "#         transforms.RandomHorizontalFlip(),\n",
    "#         transforms.ToTensor(),\n",
    "#         transforms.Normalize([0.485, 0.456, 0.406], [0.229, 0.224, 0.225])\n",
    "#     ]),\n",
    "#     'val': transforms.Compose([\n",
    "#         transforms.Resize(256),\n",
    "#         transforms.CenterCrop(224),\n",
    "#         transforms.ToTensor(),\n",
    "#         transforms.Normalize([0.485, 0.456, 0.406], [0.229, 0.224, 0.225])\n",
    "#     ]),\n",
    "# }\n",
    "\n",
    "# data_dir = 'data/hymenoptera_data'\n",
    "# image_datasets = {x: datasets.ImageFolder(os.path.join(data_dir, x),\n",
    "#                                           data_transforms[x])\n",
    "#                   for x in ['train', 'val']}\n",
    "# dataloaders = {x: torch.utils.data.DataLoader(image_datasets[x], batch_size=4,\n",
    "#                                              shuffle=True, num_workers=4)\n",
    "#               for x in ['train', 'val']}\n",
    "# dataset_sizes = {x: len(image_datasets[x]) for x in ['train', 'val']}\n",
    "# class_names = image_datasets['train'].classes\n",
    "\n",
    "# # We want to be able to train our model on an `accelerator <https://pytorch.org/docs/stable/torch.html#accelerators>`__\n",
    "# # such as CUDA, MPS, MTIA, or XPU. If the current accelerator is available, we will use it. Otherwise, we use the CPU.\n",
    "\n",
    "# device = torch.accelerator.current_accelerator().type if torch.accelerator.is_available() else \"cpu\"\n",
    "# print(f\"Using {device} device\")"
   ]
  },
  {
   "cell_type": "markdown",
   "id": "1254d9c0",
   "metadata": {},
   "source": [
    "### Model"
   ]
  },
  {
   "cell_type": "code",
   "execution_count": null,
   "id": "5365b7a0",
   "metadata": {},
   "outputs": [],
   "source": [
    "from models.simplemodel import SmallCNN\n",
    "model = SmallCNN(config['model'])"
   ]
  },
  {
   "cell_type": "markdown",
   "id": "8c87e80a",
   "metadata": {},
   "source": [
    "### Pretrained Model"
   ]
  },
  {
   "cell_type": "code",
   "execution_count": 6,
   "id": "79c89927",
   "metadata": {},
   "outputs": [],
   "source": [
    "from models.pretrained import get_model\n",
    "model = get_model(config['model'])\n",
    "for param in model.parameters():\n",
    "    param.requires_grad = False\n",
    "for param in model.fc.parameters():\n",
    "    param.requires_grad = True"
   ]
  },
  {
   "cell_type": "code",
   "execution_count": 7,
   "id": "f4124940",
   "metadata": {},
   "outputs": [],
   "source": [
    "loss_fn = torch.nn.CrossEntropyLoss()\n",
    "optimizer = torch.optim.Adam(model.parameters(), lr = 0.001)\n",
    "scheduler = torch.optim.lr_scheduler.StepLR(optimizer, step_size=10, gamma=0.01)"
   ]
  },
  {
   "cell_type": "markdown",
   "id": "92b223be",
   "metadata": {},
   "source": [
    "### Training Loop"
   ]
  },
  {
   "cell_type": "code",
   "execution_count": null,
   "id": "813fe4c1",
   "metadata": {},
   "outputs": [],
   "source": [
    "from train import train, train_one_epoch, val_one_epoch\n",
    "# train(model=model, traindl=traindl, optimizer=optimizer, loss_fn=loss_fn, config=config['train'], scheduler=None, valdl=valdl, device=device)\n",
    "cfg = config['train']\n",
    "model.to(device)\n",
    "best_loss = float('inf')\n",
    "os.makedirs('checkpoints', exist_ok=True)\n",
    "for epoch in range(cfg['epochs']):\n",
    "    model.train()\n",
    "    train_loss, train_acc = train_one_epoch(model, traindl, optimizer, loss_fn, config['train'], epoch=epoch, device=device)\n",
    "    if valdl and (epoch+1)%cfg['val_interval']==0:\n",
    "        val_loss, val_acc = val_one_epoch(model, valdl, loss_fn, cfg, epoch=epoch, device=device)\n",
    "        if val_loss<best_loss:\n",
    "            best_loss = val_loss\n",
    "            model_name = type(model).__name__+'_'+device.type+str(datetime.now())[:15]\n",
    "            model_path = os.path.join('checkpoints', model_name)\n",
    "            torch.save(model.state_dict(), model_path)\n",
    "            \n",
    "    if scheduler:\n",
    "        scheduler.step()\n"
   ]
  },
  {
   "cell_type": "markdown",
   "id": "9696a4db",
   "metadata": {},
   "source": [
    "### Prediction"
   ]
  },
  {
   "cell_type": "code",
   "execution_count": null,
   "id": "55431b31",
   "metadata": {},
   "outputs": [
    {
     "ename": "AttributeError",
     "evalue": "'Subset' object has no attribute 'class_names'",
     "output_type": "error",
     "traceback": [
      "\u001b[31m---------------------------------------------------------------------------\u001b[39m",
      "\u001b[31mAttributeError\u001b[39m                            Traceback (most recent call last)",
      "\u001b[36mCell\u001b[39m\u001b[36m \u001b[39m\u001b[32mIn[22]\u001b[39m\u001b[32m, line 1\u001b[39m\n\u001b[32m----> \u001b[39m\u001b[32m1\u001b[39m \u001b[43mtrainds\u001b[49m\u001b[43m.\u001b[49m\u001b[43mclass_names\u001b[49m\n",
      "\u001b[31mAttributeError\u001b[39m: 'Subset' object has no attribute 'class_names'"
     ]
    }
   ],
   "source": [
    "from train import visualize_model\n",
    "visualize_model(model, )"
   ]
  },
  {
   "cell_type": "code",
   "execution_count": null,
   "id": "58d0e141",
   "metadata": {},
   "outputs": [
    {
     "data": {
      "text/plain": [
       "torch.Size([5, 10])"
      ]
     },
     "execution_count": 98,
     "metadata": {},
     "output_type": "execute_result"
    }
   ],
   "source": []
  },
  {
   "cell_type": "code",
   "execution_count": null,
   "id": "f6e774b3",
   "metadata": {},
   "outputs": [],
   "source": []
  }
 ],
 "metadata": {
  "kernelspec": {
   "display_name": "base",
   "language": "python",
   "name": "python3"
  },
  "language_info": {
   "codemirror_mode": {
    "name": "ipython",
    "version": 3
   },
   "file_extension": ".py",
   "mimetype": "text/x-python",
   "name": "python",
   "nbconvert_exporter": "python",
   "pygments_lexer": "ipython3",
   "version": "3.12.9"
  }
 },
 "nbformat": 4,
 "nbformat_minor": 5
}
